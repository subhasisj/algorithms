{
 "cells": [
  {
   "cell_type": "markdown",
   "metadata": {},
   "source": [
    "## Sorting 2 arrays at a time"
   ]
  },
  {
   "cell_type": "code",
   "execution_count": 3,
   "metadata": {},
   "outputs": [],
   "source": [
    "array_1 = [-2, 0, 3, 5, 8]\n",
    "\n",
    "array_2 = [3, 6, 6, 10, 12, 18]\n",
    "\n",
    "array_3 = [-40, -20, 0, 0, 67, 75, 80]\n"
   ]
  },
  {
   "cell_type": "code",
   "execution_count": 10,
   "metadata": {},
   "outputs": [],
   "source": [
    "def merge_sort_2_arrays(a,b):\n",
    "    i=j=0\n",
    "    result = []\n",
    "\n",
    "    while i < len(a) and j < len(b):\n",
    "        if a[i] <= b[j]:\n",
    "            result.append(a[i])\n",
    "            i+=1\n",
    "        else:\n",
    "            result.append(b[j])\n",
    "            j+=1\n",
    "        \n",
    "    while i < len(a):\n",
    "        result.append(a[i])\n",
    "        i+=1\n",
    "\n",
    "    while j < len(b):\n",
    "        result.append(b[j])\n",
    "        j+=1\n",
    "\n",
    "    return result\n",
    "\n",
    "temp = (merge_sort_2_arrays(array_1,array_2))\n"
   ]
  },
  {
   "cell_type": "code",
   "execution_count": 11,
   "metadata": {},
   "outputs": [],
   "source": [
    "final_array = set(merge_sort_2_arrays(temp,array_3))"
   ]
  },
  {
   "cell_type": "code",
   "execution_count": 12,
   "metadata": {},
   "outputs": [
    {
     "output_type": "execute_result",
     "data": {
      "text/plain": "{-40, -20, -2, 0, 3, 5, 6, 8, 10, 12, 18, 67, 75, 80}"
     },
     "metadata": {},
     "execution_count": 12
    }
   ],
   "source": [
    "final_array"
   ]
  },
  {
   "cell_type": "markdown",
   "metadata": {},
   "source": [
    "## Sorting 3 arrays at a time"
   ]
  },
  {
   "cell_type": "code",
   "execution_count": 18,
   "metadata": {},
   "outputs": [],
   "source": [
    "def merge_sort_3_arrays(a,b,c):\n",
    "    i=j=k=0\n",
    "    result = []\n",
    "\n",
    "    while i < len(a) and j < len(b) and k < len(c):\n",
    "        \n",
    "        min_value = min(a[i],b[j],c[k])\n",
    "\n",
    "        if a[i]==min_value:\n",
    "            i+=1\n",
    "        elif b[j]==min_value:\n",
    "            j+=1\n",
    "        elif c[k]==min_value:\n",
    "            k+=1\n",
    "        \n",
    "    while i < len(a) and j < len(b):\n",
    "        if a[i] <= b[j]:\n",
    "            result.append(a[i])\n",
    "            i+=1\n",
    "        else:\n",
    "            result.append(b[j])\n",
    "            j+=1\n",
    "\n",
    "    while j < len(b) and k < len(c):\n",
    "        if b[j] <= c[k]:\n",
    "            result.append(b[j])\n",
    "            j+=1\n",
    "        else:\n",
    "            result.append(c[k])\n",
    "            k+=1\n",
    "\n",
    "    while i < len(a) and k < len(c):\n",
    "        if a[i] <= c[k]:\n",
    "            result.append(a[i])\n",
    "            i+=1\n",
    "        else:\n",
    "            result.append(c[k])\n",
    "            k+=1\n",
    "\n",
    "\n",
    "    while i < len(a):\n",
    "        result.append(a[i])\n",
    "        i+=1\n",
    "\n",
    "    while j < len(b):\n",
    "        result.append(b[j])\n",
    "        j+=1\n",
    "\n",
    "    while k < len(c):\n",
    "        result.append(c[k])\n",
    "        k+=1\n",
    "\n",
    "\n",
    "\n",
    "    return result\n",
    "\n",
    "temp = (merge_sort_3_arrays(array_1,array_2,array_3))"
   ]
  },
  {
   "cell_type": "code",
   "execution_count": 19,
   "metadata": {},
   "outputs": [
    {
     "output_type": "execute_result",
     "data": {
      "text/plain": "[10, 12, 18, 67, 75, 80]"
     },
     "metadata": {},
     "execution_count": 19
    }
   ],
   "source": [
    "temp"
   ]
  },
  {
   "cell_type": "code",
   "execution_count": null,
   "metadata": {},
   "outputs": [],
   "source": []
  }
 ],
 "metadata": {
  "language_info": {
   "codemirror_mode": {
    "name": "ipython",
    "version": 3
   },
   "file_extension": ".py",
   "mimetype": "text/x-python",
   "name": "python",
   "nbconvert_exporter": "python",
   "pygments_lexer": "ipython3",
   "version": "3.7.6-final"
  },
  "orig_nbformat": 2,
  "kernelspec": {
   "name": "python37664bitbaseconda370e530844b44224b407abb3518d3a27",
   "display_name": "Python 3.7.6 64-bit ('base': conda)"
  }
 },
 "nbformat": 4,
 "nbformat_minor": 2
}